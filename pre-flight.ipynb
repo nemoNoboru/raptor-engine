{
 "cells": [
  {
   "cell_type": "code",
   "execution_count": 1,
   "metadata": {},
   "outputs": [
    {
     "name": "stdout",
     "output_type": "stream",
     "text": [
      "hello\n"
     ]
    }
   ],
   "source": [
    "print(\"hello\")"
   ]
  },
  {
   "cell_type": "code",
   "execution_count": 54,
   "metadata": {},
   "outputs": [],
   "source": [
    "class Pump():\n",
    "    def __init__(self) -> None:\n",
    "        self.loaded = False\n",
    "\n",
    "    def load(self):\n",
    "        self.status = \"loaded\"\n",
    "\n",
    "    def pump(self, input):\n",
    "        if not self.loaded:\n",
    "            self.load()\n",
    "        return f\"im {self.status} and my input is {input} and im running on raptor engine\""
   ]
  },
  {
   "cell_type": "code",
   "execution_count": 46,
   "metadata": {},
   "outputs": [],
   "source": [
    "blah = Pump()"
   ]
  },
  {
   "cell_type": "code",
   "execution_count": 47,
   "metadata": {},
   "outputs": [
    {
     "data": {
      "text/plain": [
       "'im loaded and my input is blah'"
      ]
     },
     "execution_count": 47,
     "metadata": {},
     "output_type": "execute_result"
    }
   ],
   "source": [
    "blah.pump(\"blah\")"
   ]
  },
  {
   "cell_type": "code",
   "execution_count": 4,
   "metadata": {},
   "outputs": [],
   "source": [
    "blah.load()"
   ]
  },
  {
   "cell_type": "code",
   "execution_count": 5,
   "metadata": {},
   "outputs": [
    {
     "data": {
      "text/plain": [
       "'im loaded and my input is blah blah'"
      ]
     },
     "execution_count": 5,
     "metadata": {},
     "output_type": "execute_result"
    }
   ],
   "source": [
    "blah.pump(\"blah blah\")"
   ]
  },
  {
   "cell_type": "code",
   "execution_count": 3,
   "metadata": {},
   "outputs": [],
   "source": [
    "import cloudpickle\n",
    "import pickle"
   ]
  },
  {
   "cell_type": "code",
   "execution_count": 55,
   "metadata": {},
   "outputs": [],
   "source": [
    "slug = cloudpickle.dumps(Pump())"
   ]
  },
  {
   "cell_type": "code",
   "execution_count": null,
   "metadata": {},
   "outputs": [],
   "source": [
    "pump = pickle.loads(slug)\n",
    "pump.load()\n",
    "return pump"
   ]
  },
  {
   "cell_type": "code",
   "execution_count": 49,
   "metadata": {},
   "outputs": [],
   "source": [
    "import requests\n",
    "import base64"
   ]
  },
  {
   "cell_type": "code",
   "execution_count": 56,
   "metadata": {},
   "outputs": [],
   "source": [
    "slug64 = base64.b64encode(slug)"
   ]
  },
  {
   "cell_type": "code",
   "execution_count": 51,
   "metadata": {},
   "outputs": [
    {
     "data": {
      "text/plain": [
       "b\"\\x80\\x05\\x95\\xe3\\x03\\x00\\x00\\x00\\x00\\x00\\x00\\x8c\\x17cloudpickle.cloudpickle\\x94\\x8c\\x14_make_skeleton_class\\x94\\x93\\x94(\\x8c\\x08builtins\\x94\\x8c\\x04type\\x94\\x93\\x94\\x8c\\x04Pump\\x94h\\x03\\x8c\\x06object\\x94\\x93\\x94\\x85\\x94}\\x94\\x8c\\n__module__\\x94\\x8c\\x08__main__\\x94s\\x8c 4deeb21d77b944908cce1db68c7c1555\\x94Nt\\x94R\\x94h\\x00\\x8c\\x0f_class_setstate\\x94\\x93\\x94h\\x0f}\\x94(h\\x0bh\\x0c\\x8c\\x08__init__\\x94h\\x00\\x8c\\x0e_make_function\\x94\\x93\\x94(h\\x00\\x8c\\r_builtin_type\\x94\\x93\\x94\\x8c\\x08CodeType\\x94\\x85\\x94R\\x94(K\\x01K\\x00K\\x00K\\x01K\\x02KCC\\nd\\x01|\\x00_\\x00d\\x00S\\x00\\x94N\\x89\\x86\\x94\\x8c\\x06loaded\\x94\\x85\\x94\\x8c\\x04self\\x94\\x85\\x94\\x8c!/tmp/ipykernel_1461/3324784150.py\\x94h\\x13K\\x02C\\x02\\x00\\x01\\x94))t\\x94R\\x94}\\x94(\\x8c\\x0b__package__\\x94N\\x8c\\x08__name__\\x94h\\x0cuNNNt\\x94R\\x94h\\x00\\x8c\\x12_function_setstate\\x94\\x93\\x94h)}\\x94}\\x94(h'h\\x13\\x8c\\x0c__qualname__\\x94\\x8c\\rPump.__init__\\x94\\x8c\\x0f__annotations__\\x94}\\x94\\x8c\\x06return\\x94Ns\\x8c\\x0e__kwdefaults__\\x94N\\x8c\\x0c__defaults__\\x94Nh\\x0bh\\x0c\\x8c\\x07__doc__\\x94N\\x8c\\x0b__closure__\\x94N\\x8c\\x17_cloudpickle_submodules\\x94]\\x94\\x8c\\x0b__globals__\\x94}\\x94u\\x86\\x94\\x86R0\\x8c\\x04load\\x94h\\x15(h\\x1a(K\\x01K\\x00K\\x00K\\x01K\\x02KCC\\nd\\x01|\\x00_\\x00d\\x00S\\x00\\x94Nh\\x1d\\x86\\x94\\x8c\\x06status\\x94\\x85\\x94h h!h<K\\x05C\\x02\\x00\\x01\\x94))t\\x94R\\x94h%NNNt\\x94R\\x94h+hE}\\x94}\\x94(h'h<h.\\x8c\\tPump.load\\x94h0}\\x94h3Nh4Nh\\x0bh\\x0ch5Nh6Nh7]\\x94h9}\\x94u\\x86\\x94\\x86R0\\x8c\\x04pump\\x94h\\x15(h\\x1a(K\\x02K\\x00K\\x00K\\x02K\\x04KCC |\\x00j\\x00s\\x0e|\\x00\\xa0\\x01\\xa1\\x00\\x01\\x00d\\x01|\\x00j\\x02\\x9b\\x00d\\x02|\\x01\\x9b\\x00\\x9d\\x04S\\x00\\x94N\\x8c\\x03im \\x94\\x8c\\x11 and my input is \\x94\\x87\\x94h\\x1dh<h?\\x87\\x94h\\x1f\\x8c\\x05input\\x94\\x86\\x94h!hMK\\x08C\\x06\\x00\\x01\\x06\\x01\\x08\\x01\\x94))t\\x94R\\x94h%NNNt\\x94R\\x94h+hY}\\x94}\\x94(h'hMh.\\x8c\\tPump.pump\\x94h0}\\x94h3Nh4Nh\\x0bh\\x0ch5Nh6Nh7]\\x94h9}\\x94u\\x86\\x94\\x86R0h5N\\x8c\\r__slotnames__\\x94]\\x94u}\\x94\\x86\\x94\\x86R0)\\x81\\x94}\\x94h\\x1d\\x89sb.\""
      ]
     },
     "execution_count": 51,
     "metadata": {},
     "output_type": "execute_result"
    }
   ],
   "source": [
    "slug"
   ]
  },
  {
   "cell_type": "code",
   "execution_count": 35,
   "metadata": {},
   "outputs": [
    {
     "data": {
      "text/plain": [
       "b'gAWVKgMAAAAAAACMF2Nsb3VkcGlja2xlLmNsb3VkcGlja2xllIwUX21ha2Vfc2tlbGV0b25fY2xhc3OUk5QojAhidWlsdGluc5SMBHR5cGWUk5SMBFB1bXCUaAOMBm9iamVjdJSTlIWUfZSMCl9fbW9kdWxlX1+UjAhfX21haW5fX5RzjCBhYWUwYjljOGJlNDA0ZGYwOTgwNTEzMjk4OGQ2ZWI2ZJROdJRSlGgAjA9fY2xhc3Nfc2V0c3RhdGWUk5RoD32UKGgLaAyMBGxvYWSUaACMDl9tYWtlX2Z1bmN0aW9ulJOUKGgAjA1fYnVpbHRpbl90eXBllJOUjAhDb2RlVHlwZZSFlFKUKEsBSwBLAEsBSwJLQ0MKZAF8AF8AZABTAJROjAZsb2FkZWSUhpSMBnN0YXR1c5SFlIwEc2VsZpSFlIwhL3RtcC9pcHlrZXJuZWxfMTQ2MS8zMzAzMjYwMTk0LnB5lGgTSwJDAgABlCkpdJRSlH2UKIwLX19wYWNrYWdlX1+UTowIX19uYW1lX1+UaAx1Tk5OdJRSlGgAjBJfZnVuY3Rpb25fc2V0c3RhdGWUk5RoKn2UfZQoaChoE4wMX19xdWFsbmFtZV9flIwJUHVtcC5sb2FklIwPX19hbm5vdGF0aW9uc19flH2UjA5fX2t3ZGVmYXVsdHNfX5ROjAxfX2RlZmF1bHRzX1+UTmgLaAyMB19fZG9jX1+UTowLX19jbG9zdXJlX1+UTowXX2Nsb3VkcGlja2xlX3N1Ym1vZHVsZXOUXZSMC19fZ2xvYmFsc19flH2UdYaUhlIwjARwdW1wlGgVKGgaKEsCSwBLAEsCSwRLQ0MSZAF8AGoAmwBkAnwBmwCdBFMAlE6MA2ltIJSMESBhbmQgbXkgaW5wdXQgaXMglIeUaB9oIIwFaW5wdXSUhpRoImg8SwVDAgABlCkpdJRSlGgmTk5OdJRSlGgsaEd9lH2UKGgoaDxoL4wJUHVtcC5wdW1wlGgxfZRoM05oNE5oC2gMaDVOaDZOaDddlGg5fZR1hpSGUjBoNU6MDV9fc2xvdG5hbWVzX1+UXZR1fZSGlIZSMCmBlC4='"
      ]
     },
     "execution_count": 35,
     "metadata": {},
     "output_type": "execute_result"
    }
   ],
   "source": [
    "slug64"
   ]
  },
  {
   "cell_type": "code",
   "execution_count": 57,
   "metadata": {},
   "outputs": [
    {
     "data": {
      "text/plain": [
       "<Response [200]>"
      ]
     },
     "execution_count": 57,
     "metadata": {},
     "output_type": "execute_result"
    }
   ],
   "source": [
    "requests.post(\"http://localhost:8000/load/raptor\", data={'data':slug64}, headers={'Content-Type': 'application/octet-stream'})"
   ]
  },
  {
   "cell_type": "code",
   "execution_count": 58,
   "metadata": {},
   "outputs": [],
   "source": [
    "res = requests.post(\"http://localhost:8000/invoke/raptor\", data={'data':slug64}, headers={'Content-Type': 'application/octet-stream'})"
   ]
  },
  {
   "cell_type": "code",
   "execution_count": 60,
   "metadata": {},
   "outputs": [
    {
     "data": {
      "text/plain": [
       "b'im loaded and my input is data=gAWVCQQAAAAAAACMF2Nsb3VkcGlja2xlLmNsb3VkcGlja2xllIwUX21ha2Vfc2tlbGV0b25fY2xhc3OUk5QojAhidWlsdGluc5SMBHR5cGWUk5SMBFB1bXCUaAOMBm9iamVjdJSTlIWUfZSMCl9fbW9kdWxlX1%2BUjAhfX21haW5fX5RzjCBhYTYwNWUxNWQ1ODk0ZjBiODMyNzYzZTEzOGJmZDQ2NZROdJRSlGgAjA9fY2xhc3Nfc2V0c3RhdGWUk5RoD32UKGgLaAyMCF9faW5pdF9flGgAjA5fbWFrZV9mdW5jdGlvbpSTlChoAIwNX2J1aWx0aW5fdHlwZZSTlIwIQ29kZVR5cGWUhZRSlChLAUsASwBLAUsCS0NDCmQBfABfAGQAUwCUTomGlIwGbG9hZGVklIWUjARzZWxmlIWUjCEvdG1wL2lweWtlcm5lbF8xNDYxLzE1NTYzODU4NjUucHmUaBNLAkMCAAGUKSl0lFKUfZQojAtfX3BhY2thZ2VfX5ROjAhfX25hbWVfX5RoDHVOTk50lFKUaACMEl9mdW5jdGlvbl9zZXRzdGF0ZZSTlGgpfZR9lChoJ2gTjAxfX3F1YWxuYW1lX1%2BUjA1QdW1wLl9faW5pdF9flIwPX19hbm5vdGF0aW9uc19flH2UjAZyZXR1cm6UTnOMDl9fa3dkZWZhdWx0c19flE6MDF9fZGVmYXVsdHNfX5ROaAtoDIwHX19kb2NfX5ROjAtfX2Nsb3N1cmVfX5ROjBdfY2xvdWRwaWNrbGVfc3VibW9kdWxlc5RdlIwLX19nbG9iYWxzX1%2BUfZR1hpSGUjCMBGxvYWSUaBUoaBooSwFLAEsASwFLAktDQwpkAXwAXwBkAFMAlE5oHYaUjAZzdGF0dXOUhZRoIGghaDxLBUMCAAGUKSl0lFKUaCVOTk50lFKUaCtoRX2UfZQoaCdoPGgujAlQdW1wLmxvYWSUaDB9lGgzTmg0TmgLaAxoNU5oNk5oN12UaDl9lHWGlIZSMIwEcHVtcJRoFShoGihLAksASwBLAksFS0NDInwAagBzDnwAoAGhAAEAZAF8AGoCmwBkAnwBmwBkA50FUwCUKE6MA2ltIJSMESBhbmQgbXkgaW5wdXQgaXMglIwgIGFuZCBpbSBydW5uaW5nIG9uIHJhcHRvciBlbmdpbmWUdJRoHWg8aD%2BHlGgfjAVpbnB1dJSGlGghaE1LCEMGAAEGAQgBlCkpdJRSlGglTk5OdJRSlGgraFp9lH2UKGgnaE1oLowJUHVtcC5wdW1wlGgwfZRoM05oNE5oC2gMaDVOaDZOaDddlGg5fZR1hpSGUjBoNU6MDV9fc2xvdG5hbWVzX1%2BUXZR1fZSGlIZSMCmBlH2UaB2Jc2Iu and im running on raptor engine'"
      ]
     },
     "execution_count": 60,
     "metadata": {},
     "output_type": "execute_result"
    }
   ],
   "source": [
    "res.content"
   ]
  },
  {
   "cell_type": "code",
   "execution_count": 31,
   "metadata": {},
   "outputs": [],
   "source": [
    "bs = \"QACZKKQDAAAAAAAAACGBOY3MN52WI4DJMNVWYZJOMNWG65LEOBUWG23MMWKIYFC7NVQWWZK7ONVWK3DFORXW4X3DNRQXG44USOKCRDAIMJ2WS3DUNFXHHFEMAR2HS4DFSSJZJDAEKB2W24EUNABYYBTPMJVGKY3USSJZJBMUPWKIYCS7L5WW6ZDVNRSV6X4URQEF6X3NMFUW4X27SRZYYIDBMFSTAYRZMM4GEZJUGA2GIZRQHE4DANJRGMZDSOBYMQ3GKYRWMSKE45EUKKKGQAEMB5PWG3DBONZV643FORZXIYLUMWKJHFDIB56ZIKDIBNUAZDAENRXWCZEUNAAIYDS7NVQWWZK7MZ2W4Y3UNFXW5FETSQUGQAEMBVPWE5LJNR2GS3S7OR4XAZMUSOKIYCCDN5SGKVDZOBSZJBMUKKKCQSYBJMAEWACLAFFQES2DIMFGIAL4ABPQAZAAKMAJITUMAZWG6YLEMVSJJBUURQDHG5DBOR2XHFEFSSGAI43FNRTJJBMURQQS65DNOAXWS4DZNNSXE3TFNRPTCNBWGEXTGMZQGMZDMMBRHE2C44DZSRUBGSYCIMBAAAMUFEUXJFCSSR6ZIKEMBNPV64DBMNVWCZ3FL5PZITUMBBPV63TBNVSV6X4UNAGHKTSOJZ2JIUUUNAAIYES7MZ2W4Y3UNFXW4X3TMV2HG5DBORSZJE4UNAVH3FD5SQUGQKDICOGAYX27OF2WC3DOMFWWKX27SSGASUDVNVYC43DPMFSJJDAPL5PWC3TON52GC5DJN5XHGX27SR6ZJDAOL5PWW53EMVTGC5LMORZV6X4UJ2GAYX27MRSWMYLVNR2HGX27SRHGQC3IBSGAOX27MRXWGX27SRHIYC27L5RWY33TOVZGKX27SRHIYF27MNWG65LEOBUWG23MMVPXG5LCNVXWI5LMMVZZIXMURQFV6X3HNRXWEYLMONPV7FD5SR2YNFEGKIYIYBDQOVWXBFDICUUGQGRIJMBEWACLABFQESYEJNBUGETEAF6AA2QATMAGIAT4AGNQBHIEKMAJITUMANUW2IEURQISAYLOMQQG26JANFXHA5LUEBUXGIEUQ6KGQH3IECGAK2LOOB2XJFEGSRUCE2B4JMCUGAQAAGKCSKLUSRJJI2BGJZHE45EUKKKGQLDII56ZI7MUFBUCQ2B4NAXYYCKQOVWXALTQOVWXBFDIGF6ZI2BTJZUDITTIBNUAY2BVJZUDMTTIG5OZI2BZPWKHLBUUQZJDA2BVJ2GA2X27ONWG65DOMFWWK427L6KF3FDVPWKINFEGKIYCTAMUFY======\"\n"
   ]
  },
  {
   "cell_type": "code",
   "execution_count": 32,
   "metadata": {},
   "outputs": [
    {
     "data": {
      "text/plain": [
       "b'@\\x00\\x99(\\xa4\\x03\\x00\\x00\\x00\\x00\\x00\\x00\\x00!\\x819\\x8d\\xcc7\\x9d\\x96#\\x80\\xc90\\xd5Va\\x92N0\\xd5\\x86\\xeb\\x92\\xc48\\x15\\x16\\x1bm\\xcc1b\\x88`P\\xbb5T\\x16Y\\x92\\xbb8\\xd5V+p\\xc59\\x15\\xd6\\xe1}\\xc35\\x14\\x17\\x1b\\x8e\\x14H\\xe2\\x82D0\\x080\\x9d\\x96Kp\\xd44U\\xc7\\x1cQ\\x0c\\x01\\x1d\\x87K\\x80\\xc5I\"Y$0\\x04(\\x1d\\x96\\xdb\\x81\\x144\\x00X`\\x14\\xcf0\\x95F)\\x8d\\xd4I\"Y$\\x13\\x14=b\\x88`$\\xbb/\\x95\\x96\\xe9\\x90\\xd55\\x14\\x95\\xe9~\\x14E\\x01\\x05\\xe9}\\xcd0U\\x16\\xe1}\\xbbI\\x16X`\\x80\\xc10T\\x93\\x01\\x84Y0\\xce\\x06\\x11\\x92T\\x18\\r\\x86!\\x94P\\x1cN\\x03\\x00\\xd2Q\\x18\\xc6CH\\xe0X1\\r\\xc6)\\x84V1\"\\x84\\xe3\\x91\\x14(\\xa2\\x86@\\x01\\x0c\\x07\\x93\\xd6\\x1bp\\xc18\\xd6U\\xeb\\x8d\\xc59\\x16W!\\x82\\xd41b\\x89\\x1cP\\xc8\\x07\\x9e\\x99 \\xa0\\xc8\\x04\\xd5\\x00d0\\x045\\x15\\xd6\\t\\x91\\x144\\x00\\x08`4\\xbb5T\\x16Y\\x92\\xbb1\\x9d\\x96\\xe1\\x8d\\xd44U\\xd6\\xe4Q\\x13I\\x05\\x06@\\x01\\x0c\\x05S\\xd6\\x13\\x92\\xc95\\x1d\\x86Kt\\xbb9\\x1e\\x17\\x01\\x93\\x14H\\xe2\\x88` \\x837\\x94\\x86)P\\xd98\\x14\\x99$\\x13\\x14(\\xa2\\x82A&\\x01$\\xc0\\x04X\\x00\\x8b\\x00QP\\x11-\\x83 \\xc1F \\x02\\xf8\\x00\\x13\\xd0\\x01\\x90\\x00(\\xc0\\t!5\\x0c\\x01\\x95\\x86\\xe9\\x82\\xc41T\\x89$\\x15\\x14E\\x00\\xc7\\x1b\\x90\\xc19\\x1d\\x97\\x1cQ\\x05I!\\x80#\\x8d\\xc55\\x14\\xc9$\\x13\\x14E\\x04\\x12\\xeb\\x90\\xcd8\\x05\\xd6K\\x80\\xd94\\xd4\\x97\\x13t\\xc55\\x13\\xd3\\x08\\xd0V\\x18E\\xd3\\x18\\xc6P\\x18\\xc6C0\\xc0Q\\x1cM\\x82\\xe3\\x80\\xd9I\\x15\\x01\\x19&\\x02 \\xc0@\\x00\\x03\\x14\\x14E\\x17$P\\x92I\\x1e\\x99 \\xa1\\x0c\\x04\\xd3\\xd5\\xeb\\x80\\xc10\\xd5V\\t\\x9d\\xc5/\\x93\\xd9!5\\x0c\\x04\\x13\\xd5\\xebt\\xc15T\\x95\\xe9~\\x144\\x01\\x87)4\\x8e%\\x9d\\x89!E\\x144\\x00\\x08`D\\xbb1\\x9d\\x96\\xe1\\x8d\\xd44U\\xd6\\xe1}\\xd31]\\x87\\x1b\\x90\\xc19\\x14\\x99$N\\x144\\x05G\\xdcP\\xf9I\\x05\\x06@\\xa0\\xc8\\x08\\xe1\\x80a}\\xbb8]\\x96\\x0bp\\xce0U\\x96)}\\xbbI!\\x80I@\\xd55V\\x02\\xe3p\\xcf0T\\x89$0\\x0f/\\x93\\xd6\\x0bt\\xce7\\x9d\\x86\\x0b\\x90\\xc97\\x95\\xc7\\x19}\\xbbI\\x1e\\x99$0\\x0e/\\x93\\xd6[\\x9d\\xc41T\\xc6\\x0b\\x92\\xcc9\\x16U\\xe9~\\x14\\'a\\x80a}\\xbb1\\x14\\x961\\x82\\xd55\\x1d\\x87\\x19}\\xbbI\\x11\\xc6@-\\xc8\\x05!\\x809}\\xbb1\\x15\\xd6\\x19}\\xbbI\\x11\\xc8`-\\xbb/\\x94Vc}\\xd39VF)}\\xbbI\\x11\\xc8`]\\xbb0\\xd5\\x86\\xeb\\x92\\xc48\\x15\\x16\\x1bm\\xcc1S\\xd7\\x1b\\x92\\xc25U\\xd6#\\x92\\xcc1VY!s\\x14E\\x01U\\xe9}\\xc75\\x15\\xd6\\x11\\x82\\xcc8\\xd3\\xd5\\xecP\\xf9I\\x1d\\x984Q\\x06(\\x86\\x08`\\x10\\xd09U\\x97\\x04P\\xc8\\tE\\x06@dH$\\xc0DX\\x00\\x8b\\x00\\x11P\\x11&\\x04$\\xd0T\\x18D\\xc4\\x00^\\x80\\x03d\\x00L\\xc0\\x06 \\x04\\xf8\\x00cP\\x04r\\x04(\\xc0\\t!5\\x0c\\x00\\xd5\\x16\\xd8\\x81\\x14E\\x02\\x12\\x01\\x82\\xce1\\x04\\x06\\xdb\\xa2@4U\\xc7\\x03\\x92\\xd4\\x10\\x15\\x17\\x18\\x81\\x14C\\xa2\\x86@}\\xc8\\x10!\\x80+b\\xce8\\x1d\\x97$Q\\x06I\\x15\\x02\\x13`x$\\xc0\\x94\\x18\\x04\\x00\\x00b\\x82H\\xa2\\xd4I\\x12I#`F%\\x91\\xc4\\xe3\\x91\\x14(\\xa2\\x86@\\xb0\\xc8#\\x9e\\x99#\\xb3\\x14\\x14\\x15\\x02C`x4\\x05\\xd8`\"\\x909U\\x97\\x00\\xb4\\xd09U\\x97\\x04P\\xc8\\x18^\\x99#`S%\\x95\\x03!4\\xc8\\x04\\xd5\\x00c`U%\\x95\\x0314\\xc8\\x1b\\x93\\x99#`Y=b\\x87,\\x15\\x14A\\x92C\\x03`U\\'a\\x80\\xd9}\\xbb8\\xd5\\x86\\xeb\\x90\\xce0U\\x96+\\x8d\\xbb/\\xa2\\x85\\xdcP\\xd5=b\\x884Q\\x06(\\x86\\x02L\\x03\\x14\\x15'"
      ]
     },
     "execution_count": 32,
     "metadata": {},
     "output_type": "execute_result"
    }
   ],
   "source": [
    "output = []\n",
    "base64.b64decode(bs)"
   ]
  },
  {
   "cell_type": "code",
   "execution_count": 29,
   "metadata": {},
   "outputs": [
    {
     "data": {
      "text/plain": [
       "b'\\x80\\x05\\x95*\\x03\\x00\\x00\\x00\\x00\\x00\\x00\\x8c\\x17cloudpickle.cloudpickle\\x94\\x8c\\x14_make_skeleton_class\\x94\\x93\\x94(\\x8c\\x08builtins\\x94\\x8c\\x04type\\x94\\x93\\x94\\x8c\\x04Pump\\x94h\\x03\\x8c\\x06object\\x94\\x93\\x94\\x85\\x94}\\x94\\x8c\\n__module__\\x94\\x8c\\x08__main__\\x94s\\x8c aae0b9c8be404df09805132988d6eb6d\\x94Nt\\x94R\\x94h\\x00\\x8c\\x0f_class_setstate\\x94\\x93\\x94h\\x0f}\\x94(h\\x0bh\\x0c\\x8c\\x04load\\x94h\\x00\\x8c\\x0e_make_function\\x94\\x93\\x94(h\\x00\\x8c\\r_builtin_type\\x94\\x93\\x94\\x8c\\x08CodeType\\x94\\x85\\x94R\\x94(K\\x01K\\x00K\\x00K\\x01K\\x02KCC\\nd\\x01|\\x00_\\x00d\\x00S\\x00\\x94N\\x8c\\x06loaded\\x94\\x86\\x94\\x8c\\x06status\\x94\\x85\\x94\\x8c\\x04self\\x94\\x85\\x94\\x8c!/tmp/ipykernel_1461/3303260194.py\\x94h\\x13K\\x02C\\x02\\x00\\x01\\x94))t\\x94R\\x94}\\x94(\\x8c\\x0b__package__\\x94N\\x8c\\x08__name__\\x94h\\x0cuNNNt\\x94R\\x94h\\x00\\x8c\\x12_function_setstate\\x94\\x93\\x94h*}\\x94}\\x94(h(h\\x13\\x8c\\x0c__qualname__\\x94\\x8c\\tPump.load\\x94\\x8c\\x0f__annotations__\\x94}\\x94\\x8c\\x0e__kwdefaults__\\x94N\\x8c\\x0c__defaults__\\x94Nh\\x0bh\\x0c\\x8c\\x07__doc__\\x94N\\x8c\\x0b__closure__\\x94N\\x8c\\x17_cloudpickle_submodules\\x94]\\x94\\x8c\\x0b__globals__\\x94}\\x94u\\x86\\x94\\x86R0\\x8c\\x04pump\\x94h\\x15(h\\x1a(K\\x02K\\x00K\\x00K\\x02K\\x04KCC\\x12d\\x01|\\x00j\\x00\\x9b\\x00d\\x02|\\x01\\x9b\\x00\\x9d\\x04S\\x00\\x94N\\x8c\\x03im \\x94\\x8c\\x11 and my input is \\x94\\x87\\x94h\\x1fh \\x8c\\x05input\\x94\\x86\\x94h\"h<K\\x05C\\x02\\x00\\x01\\x94))t\\x94R\\x94h&NNNt\\x94R\\x94h,hG}\\x94}\\x94(h(h<h/\\x8c\\tPump.pump\\x94h1}\\x94h3Nh4Nh\\x0bh\\x0ch5Nh6Nh7]\\x94h9}\\x94u\\x86\\x94\\x86R0h5N\\x8c\\r__slotnames__\\x94]\\x94u}\\x94\\x86\\x94\\x86R0)\\x81\\x94.'"
      ]
     },
     "execution_count": 29,
     "metadata": {},
     "output_type": "execute_result"
    }
   ],
   "source": [
    "slug"
   ]
  },
  {
   "cell_type": "code",
   "execution_count": null,
   "metadata": {},
   "outputs": [],
   "source": []
  }
 ],
 "metadata": {
  "kernelspec": {
   "display_name": "Python 3",
   "language": "python",
   "name": "python3"
  },
  "language_info": {
   "codemirror_mode": {
    "name": "ipython",
    "version": 3
   },
   "file_extension": ".py",
   "mimetype": "text/x-python",
   "name": "python",
   "nbconvert_exporter": "python",
   "pygments_lexer": "ipython3",
   "version": "3.8.10"
  }
 },
 "nbformat": 4,
 "nbformat_minor": 2
}
